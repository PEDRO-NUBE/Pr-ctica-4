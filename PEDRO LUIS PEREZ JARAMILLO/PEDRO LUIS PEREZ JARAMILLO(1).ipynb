{
  "metadata": {
    "kernelspec": {
      "name": "python",
      "display_name": "Python (Pyodide)",
      "language": "python"
    },
    "language_info": {
      "codemirror_mode": {
        "name": "python",
        "version": 3
      },
      "file_extension": ".py",
      "mimetype": "text/x-python",
      "name": "python",
      "nbconvert_exporter": "python",
      "pygments_lexer": "ipython3",
      "version": "3.8"
    }
  },
  "nbformat_minor": 5,
  "nbformat": 4,
  "cells": [
    {
      "id": "bcd6efd3-67b5-46ac-8f0f-dd48d6917245",
      "cell_type": "markdown",
      "source": "Estructura Iterativa - Bucle for",
      "metadata": {},
      "attachments": {}
    },
    {
      "id": "559ef2c9-8150-4735-8708-2818ed339abf",
      "cell_type": "code",
      "source": "El Bucle for se utiliza para recorrer los elementos de un objeto iterable (lista, tupla, string, diccionario, ...) \ny ejecutar un bloque de código. En cada paso de la iteración se tiene en cuenta a un único elemento del objeto iterable,\nsobre el cuál se pueden aplicar una serie de operaciones.",
      "metadata": {
        "trusted": true
      },
      "outputs": [],
      "execution_count": null
    },
    {
      "id": "bcbe467e-f42d-4a30-b6fc-84fbf95ef6d6",
      "cell_type": "code",
      "source": "for <var> in <iterable>:\n    <codigo>\n    <codigo>\n    ............................\n    ",
      "metadata": {
        "trusted": true
      },
      "outputs": [],
      "execution_count": null
    },
    {
      "id": "ca979524-b3d0-4827-82aa-0200a81aa891",
      "cell_type": "code",
      "source": "var es la variable que toma el valor del elemento dentro del iterador en cada paso del bucle. Este finaliza su ejecución cuando se recorren todos los elementos.\nUn iterable es un objeto que permite recorrer sus elementos uno a uno. En Python, los tipos principales list, tuple, dict, set o string entre otros, son iterables,\npor lo que podrán ser usados en el bucle for.",
      "metadata": {
        "trusted": true
      },
      "outputs": [],
      "execution_count": null
    },
    {
      "id": "ac1a1424-f090-483a-8da6-95b695779665",
      "cell_type": "code",
      "source": "usamos for",
      "metadata": {
        "trusted": true
      },
      "outputs": [],
      "execution_count": null
    },
    {
      "id": "1202ee8c-3d4b-4fb7-b230-f98767578ae9",
      "cell_type": "code",
      "source": "#for iterando una lista \nnum = [ 6,23,89,120 ]\nfor n in num:\n    print(n)",
      "metadata": {
        "trusted": true
      },
      "outputs": [
        {
          "name": "stdout",
          "text": "6\n23\n89\n120\n",
          "output_type": "stream"
        }
      ],
      "execution_count": 1
    },
    {
      "id": "d7676ebd-174e-4cba-a6af-717a00812d19",
      "cell_type": "code",
      "source": "#for iterando un string\nnom = \"Maximiliano\"\nfor x in nom:\n    print(x)\n",
      "metadata": {
        "trusted": true
      },
      "outputs": [
        {
          "name": "stdout",
          "text": "M\na\nx\ni\nm\ni\nl\ni\na\nn\no\n",
          "output_type": "stream"
        }
      ],
      "execution_count": 2
    },
    {
      "id": "fd7591f6-992d-477b-b56d-2a8cac428d66",
      "cell_type": "code",
      "source": "#for hallando la longitud de los elementos de una lista\nfor nombre in [\"Milita\" , \"Luisito\" , \"Pablito\" , \"Alexandrito\"]:\n    print(\"Hola {0}, la longitud de tu nombre es: {1} caracteres\".format(nombre,len(nombre)))\n",
      "metadata": {
        "trusted": true
      },
      "outputs": [
        {
          "name": "stdout",
          "text": "Hola Milita, la longitud de tu nombre es: 6 caracteres\nHola Luisito, la longitud de tu nombre es: 7 caracteres\nHola Pablito, la longitud de tu nombre es: 7 caracteres\nHola Alexandrito, la longitud de tu nombre es: 11 caracteres\n",
          "output_type": "stream"
        }
      ],
      "execution_count": 3
    },
    {
      "id": "bbaf196b-7c43-424e-a69e-2ae964442a21",
      "cell_type": "code",
      "source": "Hacer un programa que itere a lo largo de una lista que contenga colores y añada (appends) todos los colores que contengan la letra r a una nueva lista.",
      "metadata": {
        "trusted": true
      },
      "outputs": [],
      "execution_count": null
    },
    {
      "id": "0d7f1900-7b9f-4866-8447-2e27990c9873",
      "cell_type": "code",
      "source": "#lista de colores\ncolor = [\"amarillo\", \"rojo\", \"verde\", \"azul\", \"púrpura\", \"blanco\", \"negro\", \"limon\"]\n#nueva lista\ncolo_con_r = []\n\nfor m in color:\n    if \"r\" in m:\n        colo_con_r.append(m)\nprint(colo_con_r)",
      "metadata": {
        "trusted": true
      },
      "outputs": [
        {
          "name": "stdout",
          "text": "['amarillo', 'rojo', 'verde', 'púrpura', 'negro']\n",
          "output_type": "stream"
        }
      ],
      "execution_count": 6
    },
    {
      "id": "f5759360-b22e-45e6-bc7d-1cf560641353",
      "cell_type": "code",
      "source": "Función range()\nLa funcion range nos permite crear una secuencia de numeros, tiene por argumentos 3 parametros (inicio, fin, pasos)\nrange se puede utilizar con uno, dos e incluso tres parámetros:",
      "metadata": {
        "trusted": true
      },
      "outputs": [],
      "execution_count": null
    },
    {
      "id": "c8165a2f-a889-444f-9393-e518f6f1b3be",
      "cell_type": "code",
      "source": "range (max): Un iterable de números enteros consecutivos que empieza en 0 y acaba en max - 1\nrange (min, max): Un iterable de números enteros consecutivos que empieza en min y acaba en max 1\nrange (min, max, step): Un iterable de números enteros consecutivos que empieza en min acaba en max 1 y los valores se van incrementando de step en step.",
      "metadata": {
        "trusted": true
      },
      "outputs": [],
      "execution_count": null
    },
    {
      "id": "db4e4df0-dc77-4e4d-bd51-7c7fce88701b",
      "cell_type": "code",
      "source": "#for utilizando la funcion \"range\" con 1 parametro\nfor i in range(12):\n    print(i)",
      "metadata": {
        "trusted": true
      },
      "outputs": [
        {
          "name": "stdout",
          "text": "0\n1\n2\n3\n4\n5\n6\n7\n8\n9\n10\n11\n",
          "output_type": "stream"
        }
      ],
      "execution_count": 7
    },
    {
      "id": "eb9151cd-1240-4d9d-8a7a-d181075bd7da",
      "cell_type": "code",
      "source": "Hacer un prgrama que imprima del numero 1 al 10",
      "metadata": {
        "trusted": true
      },
      "outputs": [],
      "execution_count": null
    },
    {
      "id": "800fe884-302e-43b1-aedd-8997ac97e5c6",
      "cell_type": "code",
      "source": "#Podemos usar un argumento\n# añadiremos el parametro end=\"\" para que por defecto no genere una nueva linea\nfor i in range(10):\n    print(i+1,\" \",end=\"\")",
      "metadata": {
        "trusted": true
      },
      "outputs": [
        {
          "name": "stdout",
          "text": "1  2  3  4  5  6  7  8  9  10  ",
          "output_type": "stream"
        }
      ],
      "execution_count": 10
    },
    {
      "id": "ef7f09f2-7bcf-481c-b9a7-a08bfcb8494b",
      "cell_type": "code",
      "source": "#Podemos usar dos valores para definir el incio y el final\nfor i in range(1,11):\n    print(i)",
      "metadata": {
        "trusted": true
      },
      "outputs": [
        {
          "name": "stdout",
          "text": "1\n2\n3\n4\n5\n6\n7\n8\n9\n10\n",
          "output_type": "stream"
        }
      ],
      "execution_count": 11
    },
    {
      "id": "501488cb-c257-450a-8695-9ce94127cb7a",
      "cell_type": "code",
      "source": "Ejemplos de función range",
      "metadata": {
        "trusted": true
      },
      "outputs": [],
      "execution_count": null
    },
    {
      "id": "d49b070c-fe6c-4c03-8782-827195efa0f3",
      "cell_type": "code",
      "source": "# Podemos usar 3 para definir un inicio, un final y una longitud de paso (en este caso 2)\nfor i in range(2,12,2):\n    print(i,\" \",end=\"\")",
      "metadata": {
        "trusted": true
      },
      "outputs": [
        {
          "name": "stdout",
          "text": "2  4  6  8  10  ",
          "output_type": "stream"
        }
      ],
      "execution_count": 12
    },
    {
      "id": "6a240093-2a92-4ba8-b49b-c9c685b8ceb2",
      "cell_type": "code",
      "source": "# inicio=20 un final=0 y una longitud de paso -2\nfor i in range(20,0,-2):\n    print(i,\" \",end=\"\")",
      "metadata": {
        "trusted": true
      },
      "outputs": [
        {
          "name": "stdout",
          "text": "20  18  16  14  12  10  8  6  4  2  ",
          "output_type": "stream"
        }
      ],
      "execution_count": 13
    },
    {
      "id": "696f931e-51bb-4078-abb1-8ba76bd5cbed",
      "cell_type": "code",
      "source": "#inicio=40 un final=-5 y una longitud de paso -5\nfor i in range(40,-5,-5):\n    print(i,\" \",end=\"\")",
      "metadata": {
        "trusted": true
      },
      "outputs": [
        {
          "name": "stdout",
          "text": "40  35  30  25  20  15  10  5  0  ",
          "output_type": "stream"
        }
      ],
      "execution_count": 15
    },
    {
      "id": "065f5d4c-9464-4a7e-866e-4ace13855c80",
      "cell_type": "code",
      "source": "# inicio=50 un final=-1 y una longitud de paso 5\nfor i in range(50,-1,-5):\n    print(i,\" \",end=\"\")",
      "metadata": {
        "trusted": true
      },
      "outputs": [
        {
          "name": "stdout",
          "text": "50  45  40  35  30  25  20  15  10  5  0  ",
          "output_type": "stream"
        }
      ],
      "execution_count": 16
    },
    {
      "id": "d8c0e853-b0f4-48c4-9281-677a1ca3c1e7",
      "cell_type": "code",
      "source": "Modificando la iteración del bucle for: break y continue\n.break se utiliza para finalizar y salir el bucle, por ejemplo, si se cumple alguna condición.\n.continue salta al siguiente paso de la iteración, ignorando todas las sentencias que le siguen y que forman parte del bucle",
      "metadata": {
        "trusted": true
      },
      "outputs": [],
      "execution_count": null
    },
    {
      "id": "36faf6ef-01a8-4264-8d0c-8259871cbd57",
      "cell_type": "code",
      "source": "Uso de break:",
      "metadata": {
        "trusted": true
      },
      "outputs": [],
      "execution_count": null
    },
    {
      "id": "92210e11-a4fa-44c6-bd41-1a134cb3fb84",
      "cell_type": "code",
      "source": "Hacer un programa que de una lista de números imprima la posición del numero 9:",
      "metadata": {
        "trusted": true
      },
      "outputs": [],
      "execution_count": null
    },
    {
      "id": "cf2f9444-1262-493f-a431-f339eab092ea",
      "cell_type": "code",
      "source": "#lista de numero\nlista = [2,4,5,7,8,9,3,4]\n#utilizamos un contador iniciamos en 0 o en -1 ??\ncont = -1\n\nfor m in lista:\n    cont = cont + 1\n    if m == 9:\n        break\nprint(cont)",
      "metadata": {
        "trusted": true
      },
      "outputs": [
        {
          "name": "stdout",
          "text": "5\n",
          "output_type": "stream"
        }
      ],
      "execution_count": 18
    },
    {
      "id": "f26fb296-d2bf-42fa-b0af-adb931e46656",
      "cell_type": "code",
      "source": "que pasa no se encuentra 9 ???\nAsignación abreviada (contador abreviado):\n",
      "metadata": {
        "trusted": true
      },
      "outputs": [],
      "execution_count": null
    },
    {
      "id": "a5c97667-2002-48a4-b5e4-a0b7460561db",
      "cell_type": "code",
      "source": "#Hay abreviaturas similares para -=,=, /, //= y 8=;\ncontador = 1\n#contador = contador +1\ncontador /= 5\nc = 1\nc +=1 \nprint(contador)\n",
      "metadata": {
        "trusted": true
      },
      "outputs": [
        {
          "name": "stdout",
          "text": "0.2\n",
          "output_type": "stream"
        }
      ],
      "execution_count": 20
    },
    {
      "id": "39fa9577-9c41-4321-b5aa-98d0686b23d9",
      "cell_type": "code",
      "source": "#lista de numeros sin el numero 9\" \nlista = [2, 4, 5, 7, 8, 19, 3, 4]\n\n#utilizamos un contador, iniciamos en 0 o en -1?? \ncont=-1\n\nfor m in lista:\n    cont += 1\n    if m == 9:\n        break\nelse:\n##Usamos 'for' conjuntamente con 'else'\n    cont =-1\n    print(\"Nos e encontro el numero 9\")\n    \n\nif cont >=0:\n    print(cont)\n\n##Usamos 'for' conjuntamente con 'else'",
      "metadata": {
        "trusted": true
      },
      "outputs": [
        {
          "name": "stdout",
          "text": "Nos e encontro el numero 9\n",
          "output_type": "stream"
        }
      ],
      "execution_count": 21
    },
    {
      "id": "1560a666-ce25-4487-8f23-511ddf43c1e2",
      "cell_type": "code",
      "source": "Uso de continue:\nHacer un programa que de una lista de numeros imprima solo los numeros pares:",
      "metadata": {
        "trusted": true
      },
      "outputs": [],
      "execution_count": null
    },
    {
      "id": "dda49a85-6c59-4f5e-b984-c2ca1d0b72a5",
      "cell_type": "code",
      "source": "#lista de numeros\nnum = [12, 14, 15, 27, 108, 90, 33, 49, 200]\nfor p in num:\n    if p % 2 !=0:\n        continue\n    print(p)\n",
      "metadata": {
        "trusted": true
      },
      "outputs": [
        {
          "name": "stdout",
          "text": "12\n14\n108\n90\n200\n",
          "output_type": "stream"
        }
      ],
      "execution_count": 22
    },
    {
      "id": "c10e1f74-608a-4f01-bf4c-75321ece88e3",
      "cell_type": "code",
      "source": "",
      "metadata": {
        "trusted": true
      },
      "outputs": [],
      "execution_count": null
    },
    {
      "id": "9602e4f5-ba72-428d-bfea-41cdf56a8b8c",
      "cell_type": "code",
      "source": "",
      "metadata": {
        "trusted": true
      },
      "outputs": [],
      "execution_count": null
    }
  ]
}