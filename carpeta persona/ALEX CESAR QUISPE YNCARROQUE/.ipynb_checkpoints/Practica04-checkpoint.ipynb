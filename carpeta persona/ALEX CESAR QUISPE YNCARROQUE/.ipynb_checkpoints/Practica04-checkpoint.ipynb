{
 "cells": [
  {
   "cell_type": "markdown",
   "id": "9a08eed0-2147-4e91-bee7-0e279482f1e5",
   "metadata": {},
   "source": [
    "Desarrollo"
   ]
  },
  {
   "cell_type": "markdown",
   "id": "0f4f140a-967f-418c-890b-aff350bdaf9c",
   "metadata": {},
   "source": [
    "# Desarrollo de Estructuras Iterativas\n",
    "## Uso del bucle `for`\n"
   ]
  },
  {
   "cell_type": "markdown",
   "id": "21cc111f-9715-4bc1-8da0-57f253c55854",
   "metadata": {},
   "source": [
    "### 1. Estructura Iterativa - Bucle `for`\n",
    "\n",
    "El bucle `for` se utiliza para recorrer los elementos de un objeto iterable (lista, tupla, string, diccionario, etc.) y ejecutar un bloque de código.  \n",
    "En cada paso de la iteración, se tiene en cuenta un único elemento del objeto iterable, sobre el cual se pueden aplicar una serie de operaciones.\n",
    "\n",
    "#### Sintaxis básica del bucle `for`:\n",
    "```python\n",
    "for <variable> in <iterable>:\n",
    "    <código>\n"
   ]
  },
  {
   "cell_type": "markdown",
   "id": "3bf132d0-e0b2-4cfe-a00a-a308d7f459a3",
   "metadata": {},
   "source": [
    "#### Iterar sobre una lista\n",
    "### Iterar sobre una lista de colores\n",
    "El siguiente programa recorre una lista de colores y crea una nueva lista con todos los colores que contienen la letra `r`."
   ]
  },
  {
   "cell_type": "code",
   "execution_count": 3,
   "id": "52bc9202-c10c-4891-98ae-ce3a4463dcd5",
   "metadata": {},
   "outputs": [
    {
     "name": "stdout",
     "output_type": "stream",
     "text": [
      "Colores con la letra 'r': ['rojo', 'verde', 'amarillo', 'morado', 'rosa']\n"
     ]
    }
   ],
   "source": [
    "# Lista original de colores\n",
    "colores = [\"rojo\", \"azul\", \"verde\", \"amarillo\", \"morado\", \"rosa\"]\n",
    "\n",
    "# Nueva lista que almacenará los colores con la letra \"r\"\n",
    "colores_con_r = []\n",
    "\n",
    "# Bucle for para recorrer los colores\n",
    "for color in colores:\n",
    "    if \"r\" in color:  # Verificar si el color contiene la letra \"r\"\n",
    "        colores_con_r.append(color)  # Añadir el color a la nueva lista\n",
    "\n",
    "# Mostrar la lista de colores con \"r\"\n",
    "print(\"Colores con la letra 'r':\", colores_con_r)\n"
   ]
  },
  {
   "cell_type": "markdown",
   "id": "56e2a9de-21a2-4c79-84f9-36175024bd34",
   "metadata": {},
   "source": [
    "### Explicación del código\n",
    "\n",
    "1. **Lista original**: La lista `colores` contiene los nombres de los colores que queremos analizar.\n",
    "2. **Nueva lista**: Creamos una lista vacía `colores_con_r` para almacenar los colores que contienen la letra `r`.\n",
    "3. **Bucle `for`**: Recorremos cada elemento de la lista `colores`.\n",
    "   - Si el color actual contiene la letra `r`, lo añadimos a la lista `colores_con_r` usando el método `.append()`.\n",
    "4. **Resultado**: Mostramos la nueva lista con los colores que cumplen la condición.\n"
   ]
  },
  {
   "cell_type": "markdown",
   "id": "31a5578c-8849-48fa-9b6c-6d48f04d7afe",
   "metadata": {},
   "source": [
    "### Iterar sobre un string\n",
    "El siguiente programa recorre cada carácter de una cadena y cuenta cuántas veces aparece la letra `a`.\n"
   ]
  },
  {
   "cell_type": "code",
   "execution_count": 1,
   "id": "0aa8ada4-35d1-4bd7-aad8-7108fee133be",
   "metadata": {},
   "outputs": [
    {
     "name": "stdout",
     "output_type": "stream",
     "text": [
      "Número de veces que aparece la letra 'a': 4\n"
     ]
    }
   ],
   "source": [
    "# Cadena de texto\n",
    "cadena = \"Python es un lenguaje de programación fantástico\"\n",
    "\n",
    "# Contador de la letra \"a\"\n",
    "contador_a = 0\n",
    "\n",
    "# Bucle for para recorrer la cadena\n",
    "for caracter in cadena:\n",
    "    if caracter == \"a\":  # Verificar si el carácter actual es \"a\"\n",
    "        contador_a += 1  # Incrementar el contador\n",
    "\n",
    "# Mostrar el resultado\n",
    "print(\"Número de veces que aparece la letra 'a':\", contador_a)\n"
   ]
  },
  {
   "cell_type": "markdown",
   "id": "227b914f-34d7-46e3-9774-1bf280f4cf1d",
   "metadata": {},
   "source": [
    "### Explicación del código\n",
    "\n",
    "1. **Cadena de texto**: La variable `cadena` contiene el texto que queremos analizar.\n",
    "2. **Contador**: Inicializamos el contador `contador_a` en 0.\n",
    "3. **Bucle `for`**: Recorremos cada carácter de la cadena.\n",
    "   - Si el carácter actual es igual a \"a\", incrementamos el contador.\n",
    "4. **Resultado**: Mostramos el número total de veces que aparece la letra \"a\" en la cadena.\n"
   ]
  },
  {
   "cell_type": "code",
   "execution_count": null,
   "id": "2c339106-6cdc-453d-b916-0a675b881e55",
   "metadata": {},
   "outputs": [],
   "source": [
    "## 2. Función `range`\n"
   ]
  },
  {
   "cell_type": "markdown",
   "id": "4944af1b-4e0e-48d1-8160-7931d045da00",
   "metadata": {},
   "source": [
    "### Introducción a la función `range`\n",
    "\n",
    "La función `range` permite generar una secuencia de números enteros.  \n",
    "Se utiliza comúnmente en bucles `for` para iterar sobre un rango de valores.\n",
    "\n",
    "#### Parámetros de `range`:\n",
    "- `range(max)`: Genera un rango de números desde `0` hasta `max - 1`.\n",
    "- `range(min, max)`: Genera un rango de números desde `min` hasta `max - 1`.\n",
    "- `range(min, max, step)`: Genera un rango desde `min` hasta `max - 1`, avanzando de acuerdo al valor de `step`.\n"
   ]
  },
  {
   "cell_type": "markdown",
   "id": "183e0a38-1c27-45b8-aa19-f90f4cc40084",
   "metadata": {},
   "source": [
    "### Usar `range` con un parámetro\n",
    "El siguiente programa imprime los números del `1` al `10` utilizando la función `range`.\n"
   ]
  },
  {
   "cell_type": "code",
   "execution_count": 5,
   "id": "02c298c9-6572-4666-a36b-8da0be7de519",
   "metadata": {},
   "outputs": [
    {
     "name": "stdout",
     "output_type": "stream",
     "text": [
      "Números del 1 al 10:\n",
      "1 2 3 4 5 6 7 8 9 10 "
     ]
    }
   ],
   "source": [
    "# Usar range con un único parámetro\n",
    "print(\"Números del 1 al 10:\")\n",
    "for i in range(1, 11):  # range(max) generará números desde 1 hasta 10 (excluyendo 11)\n",
    "    print(i, end=\" \")  # Usamos end=\" \" para que los números se impriman en una sola línea\n"
   ]
  },
  {
   "cell_type": "markdown",
   "id": "602b4cb1-6d0a-4982-9705-6b73fa31bd9f",
   "metadata": {},
   "source": [
    "### Usar `range` con dos parámetros\n",
    "El siguiente programa imprime los números del `5` al `15`.\n"
   ]
  },
  {
   "cell_type": "code",
   "execution_count": 7,
   "id": "c522286e-6505-429a-a948-ea71cb529acc",
   "metadata": {},
   "outputs": [
    {
     "name": "stdout",
     "output_type": "stream",
     "text": [
      "\n",
      "\n",
      "Números del 5 al 15:\n",
      "5 6 7 8 9 10 11 12 13 14 15 "
     ]
    }
   ],
   "source": [
    "# Usar range con dos parámetros\n",
    "print(\"\\n\\nNúmeros del 5 al 15:\")\n",
    "for i in range(5, 16):  # range(min, max) generará números desde 5 hasta 15\n",
    "    print(i, end=\" \")\n"
   ]
  },
  {
   "cell_type": "markdown",
   "id": "3b6368f9-227e-446c-ba37-b7fd63b9a7bd",
   "metadata": {},
   "source": [
    "### Usar `range` con tres parámetros\n",
    "El siguiente programa imprime los números del `1` al `10`, avanzando de 2 en 2.\n"
   ]
  },
  {
   "cell_type": "code",
   "execution_count": 9,
   "id": "1f23e54d-1463-4b4a-89a6-88ea2c06bc86",
   "metadata": {},
   "outputs": [
    {
     "name": "stdout",
     "output_type": "stream",
     "text": [
      "\n",
      "\n",
      "Números del 1 al 10 con paso 2:\n",
      "1 3 5 7 9 "
     ]
    }
   ],
   "source": [
    "# Usar range con tres parámetros\n",
    "print(\"\\n\\nNúmeros del 1 al 10 con paso 2:\")\n",
    "for i in range(1, 11, 2):  # range(min, max, step) avanzará de 2 en 2\n",
    "    print(i, end=\" \")\n"
   ]
  },
  {
   "cell_type": "markdown",
   "id": "ef84cdb3-37f0-438f-9025-af993606b249",
   "metadata": {},
   "source": [
    "### Usar `range` con decrementos\n",
    "El siguiente programa imprime los números del `20` al `0`, en pasos de `-2`.\n"
   ]
  },
  {
   "cell_type": "code",
   "execution_count": 11,
   "id": "caad1f54-5fe2-469b-a607-aed84399fad4",
   "metadata": {},
   "outputs": [
    {
     "name": "stdout",
     "output_type": "stream",
     "text": [
      "\n",
      "\n",
      "Números del 20 al 0 con paso -2:\n",
      "20 18 16 14 12 10 8 6 4 2 0 "
     ]
    }
   ],
   "source": [
    "# Usar range con decrementos\n",
    "print(\"\\n\\nNúmeros del 20 al 0 con paso -2:\")\n",
    "for i in range(20, -1, -2):  # Decrementar desde 20 hasta 0 en pasos de -2\n",
    "    print(i, end=\" \")\n"
   ]
  },
  {
   "cell_type": "markdown",
   "id": "ead77240-fdeb-4e17-9040-681b8d40d7fc",
   "metadata": {},
   "source": [
    "### Caso especial con `range`\n",
    "El siguiente programa intenta generar un rango desde `50` hasta `-1`, con un paso positivo de `5`.  \n",
    "Sin embargo, como el inicio es mayor que el final y los pasos son crecientes, **la condición nunca se cumple**.\n"
   ]
  },
  {
   "cell_type": "code",
   "execution_count": 13,
   "id": "1843d389-bd32-45e1-a6a6-db254ae3af1d",
   "metadata": {},
   "outputs": [
    {
     "name": "stdout",
     "output_type": "stream",
     "text": [
      "\n",
      "\n",
      "Intentando generar números desde 50 hasta -1 con paso 5:\n",
      "\n",
      "No se genera ningún número porque el rango no es válido.\n"
     ]
    }
   ],
   "source": [
    "# Caso especial con range\n",
    "print(\"\\n\\nIntentando generar números desde 50 hasta -1 con paso 5:\")\n",
    "for i in range(50, -1, 5):  # Esto no generará ningún número\n",
    "    print(i, end=\" \")\n",
    "\n",
    "# Resultado esperado: No se imprime nada\n",
    "print(\"\\nNo se genera ningún número porque el rango no es válido.\")\n"
   ]
  },
  {
   "cell_type": "markdown",
   "id": "dc42426f-11bd-4b1c-9c95-93c0d48ad9de",
   "metadata": {},
   "source": [
    "### Resumen de la función `range`\n",
    "\n",
    "- **`range`** es una herramienta poderosa para generar secuencias de números en Python.\n",
    "- Es importante tener en cuenta la relación entre los parámetros `min`, `max` y `step` para garantizar que el rango sea válido:\n",
    "  - Si `min` < `max` y `step` > 0, el rango es creciente.\n",
    "  - Si `min` > `max` y `step` < 0, el rango es decreciente.\n",
    "  - En otros casos, el rango no se genera y el bucle no se ejecuta.\n"
   ]
  },
  {
   "cell_type": "markdown",
   "id": "61b1958d-eab5-43b8-8529-b48f7eedb1f0",
   "metadata": {},
   "source": [
    "## 3. Función `break` y `continue`\n"
   ]
  },
  {
   "cell_type": "markdown",
   "id": "f1ff60d2-2a62-434e-a632-1f2275f9f20b",
   "metadata": {},
   "source": [
    "### Modificando la iteración del bucle `for` con `break` y `continue`\n",
    "\n",
    "En Python, las funciones `break` y `continue` permiten modificar el flujo de un bucle `for` o `while`:\n",
    "\n",
    "- **`break`**: Finaliza y sale del bucle inmediatamente cuando se cumple una condición.\n",
    "- **`continue`**: Salta al siguiente paso de la iteración, ignorando las sentencias restantes en el bloque del bucle.\n",
    "\n",
    "#### Uso de `break`:\n",
    "Se utiliza para detener el bucle antes de completar todas las iteraciones previstas.\n",
    "\n",
    "#### Uso de `continue`:\n",
    "Se utiliza para omitir ciertas iteraciones sin interrumpir el bucle por completo.\n",
    "\n",
    "A continuación, exploraremos ejemplos prácticos.\n"
   ]
  },
  {
   "cell_type": "markdown",
   "id": "98182312-35de-4b23-97ef-0d942cee3819",
   "metadata": {},
   "source": [
    "### Uso de `break` para encontrar la posición de un número\n",
    "\n",
    "El siguiente programa busca el número `9` en una lista y muestra su posición.  \n",
    "Si no se encuentra el número, se imprime un mensaje indicándolo.\n"
   ]
  },
  {
   "cell_type": "code",
   "execution_count": 15,
   "id": "754cd961-de45-43a3-bd1e-8223006c13f0",
   "metadata": {},
   "outputs": [
    {
     "name": "stdout",
     "output_type": "stream",
     "text": [
      "El número 9 se encuentra en la posición: 3\n"
     ]
    }
   ],
   "source": [
    "# Lista de números\n",
    "numeros = [1, 3, 5, 9, 11, 13, 15]\n",
    "# Contador para la posición\n",
    "posicion = -1  # Iniciamos en -1 para manejar el caso de que no se encuentre el número\n",
    "\n",
    "for i, num in enumerate(numeros):  # Utilizamos enumerate para obtener índice y valor\n",
    "    if num == 9:\n",
    "        posicion = i\n",
    "        break  # Salimos del bucle cuando encontramos el número\n",
    "\n",
    "if posicion != -1:\n",
    "    print(f\"El número 9 se encuentra en la posición: {posicion}\")\n",
    "else:\n",
    "    print(\"El número 9 no se encuentra en la lista.\")\n"
   ]
  },
  {
   "cell_type": "markdown",
   "id": "cd731775-50c2-40b0-a86a-9b08e4e806c5",
   "metadata": {},
   "source": [
    "### Uso de `break` con una lista sin el número buscado\n",
    "\n",
    "¿Qué sucede si el número `9` no está en la lista?  \n",
    "A continuación, vemos cómo se maneja esta situación con el uso de `for` y `else`.\n"
   ]
  },
  {
   "cell_type": "code",
   "execution_count": 17,
   "id": "405f5b9b-66e3-4057-b8ee-4fa0ed15b3cb",
   "metadata": {},
   "outputs": [
    {
     "name": "stdout",
     "output_type": "stream",
     "text": [
      "El número 9 no se encuentra en la lista.\n"
     ]
    }
   ],
   "source": [
    "# Lista de números sin el número 9\n",
    "numeros = [2, 4, 6, 8, 10, 12]\n",
    "posicion = -1\n",
    "\n",
    "for i, num in enumerate(numeros):\n",
    "    if num == 9:\n",
    "        posicion = i\n",
    "        break\n",
    "else:  # Este bloque se ejecuta si no se cumple la condición en todo el bucle\n",
    "    print(\"El número 9 no se encuentra en la lista.\")\n",
    "\n",
    "if posicion != -1:\n",
    "    print(f\"El número 9 se encuentra en la posición: {posicion}\")\n"
   ]
  },
  {
   "cell_type": "markdown",
   "id": "4b576212-59ed-4f2e-bc69-3cae7848e527",
   "metadata": {},
   "source": [
    "### Uso de `continue` para imprimir solo los números pares\n",
    "\n",
    "El siguiente programa recorre una lista de números e imprime únicamente los números pares.  \n",
    "Cuando se encuentra un número impar, se omite con el uso de `continue`.\n"
   ]
  },
  {
   "cell_type": "code",
   "execution_count": 19,
   "id": "e1cbad89-0411-4afc-870a-d6f1a15a03b4",
   "metadata": {},
   "outputs": [
    {
     "name": "stdout",
     "output_type": "stream",
     "text": [
      "Números pares en la lista:\n",
      "2 4 6 8 10 "
     ]
    }
   ],
   "source": [
    "# Lista de números\n",
    "numeros = [1, 2, 3, 4, 5, 6, 7, 8, 9, 10]\n",
    "\n",
    "print(\"Números pares en la lista:\")\n",
    "for num in numeros:\n",
    "    if num % 2 != 0:  # Si el número es impar\n",
    "        continue  # Saltamos al siguiente paso de la iteración\n",
    "    print(num, end=\" \")\n"
   ]
  },
  {
   "cell_type": "markdown",
   "id": "e7283c85-4c92-4e8c-8d62-fc28f592f67a",
   "metadata": {},
   "source": [
    "### Resumen de `break` y `continue`\n",
    "\n",
    "- **`break`**:\n",
    "  - Útil para finalizar un bucle antes de recorrer todos los elementos.\n",
    "  - Puede ser combinado con `if` para cumplir una condición específica.\n",
    "\n",
    "- **`continue`**:\n",
    "  - Permite omitir ciertas iteraciones, avanzando al siguiente paso del bucle.\n",
    "  - Es útil para ignorar elementos no deseados en una secuencia.\n",
    "\n",
    "#### Ejemplo práctico:\n",
    "En una lista de números:\n",
    "- **`break`**: Busca un número específico y detiene el bucle al encontrarlo.\n",
    "- **`continue`**: Imprime solo los números pares, saltando los impares.\n"
   ]
  },
  {
   "cell_type": "code",
   "execution_count": null,
   "id": "a6e2d13b-7506-4338-b248-82e1256929ca",
   "metadata": {},
   "outputs": [],
   "source": [
    "Ejemplos"
   ]
  },
  {
   "cell_type": "markdown",
   "id": "b1fb6afe-f3b7-4461-9206-75d4dfca5c80",
   "metadata": {},
   "source": [
    "1. Hacer un programa mostrar por pantalla los números pares del 0 al 10 :"
   ]
  },
  {
   "cell_type": "code",
   "execution_count": 25,
   "id": "cc19cc0d-33b7-4178-9f42-4668a3e856e8",
   "metadata": {},
   "outputs": [
    {
     "name": "stdout",
     "output_type": "stream",
     "text": [
      "0\n",
      "2\n",
      "4\n",
      "6\n",
      "8\n",
      "10\n"
     ]
    }
   ],
   "source": [
    "for num in range(0, 11, 2):\n",
    "    print(num)\n"
   ]
  },
  {
   "cell_type": "markdown",
   "id": "4c7db783-a3d4-420d-b598-1b60efb4dc01",
   "metadata": {},
   "source": [
    "2. Programa para ingresar nombres a una lista utilizando funciones:"
   ]
  },
  {
   "cell_type": "code",
   "execution_count": 27,
   "id": "0ae9292e-90e9-438d-9344-96f0c264ebdc",
   "metadata": {},
   "outputs": [
    {
     "name": "stdin",
     "output_type": "stream",
     "text": [
      "¿Cuántos elementos tendrá la lista de nombres?  3\n",
      "Ingresar Nombre de la posición 0:  Juancito\n",
      "Ingresar Nombre de la posición 1:  Luisito\n",
      "Ingresar Nombre de la posición 2:  Marianita\n"
     ]
    },
    {
     "name": "stdout",
     "output_type": "stream",
     "text": [
      "\n",
      "La lista completa de nombres es:\n",
      " ['Juancito', 'Luisito', 'Marianita']\n"
     ]
    }
   ],
   "source": [
    "# Inicializamos la lista vacía\n",
    "nombres = []\n",
    "\n",
    "# Función para ingresar nombres\n",
    "def ingreso(ele):\n",
    "    for i in range(0, ele):\n",
    "        m = input(\"Ingresar Nombre de la posición {0}: \".format(i))\n",
    "        nombres.append(m)\n",
    "\n",
    "# Preguntamos cuántos elementos tendrá la lista\n",
    "l = int(input(\"¿Cuántos elementos tendrá la lista de nombres? \"))\n",
    "ingreso(l)\n",
    "\n",
    "print(\"\\nLa lista completa de nombres es:\\n\", nombres)\n"
   ]
  },
  {
   "cell_type": "markdown",
   "id": "68aeb49d-8b6c-430c-bcb7-05d24fb0618c",
   "metadata": {},
   "source": [
    "3. Imprimir la posición del número 9 en una lista utilizando enumerate:"
   ]
  },
  {
   "cell_type": "code",
   "execution_count": 29,
   "id": "3abd7ad6-e4bd-44d8-907d-e15513113018",
   "metadata": {},
   "outputs": [
    {
     "name": "stdout",
     "output_type": "stream",
     "text": [
      "No se encontró el número 9\n"
     ]
    }
   ],
   "source": [
    "# Lista de números\n",
    "lista = [2, 4, 5, 7, 8, 19, 3, 4]\n",
    "\n",
    "# Buscar el número 9\n",
    "for i, m in enumerate(lista):\n",
    "    if m == 9:\n",
    "        break\n",
    "else:\n",
    "    # Usamos 'for' junto con 'else' si no se encuentra el número\n",
    "    i = -1\n",
    "    print('No se encontró el número 9')\n",
    "\n",
    "if i >= 0:\n",
    "    print(i)\n"
   ]
  },
  {
   "cell_type": "code",
   "execution_count": null,
   "id": "5f4b985f-f439-4c9b-8aa2-c9dee2e917b4",
   "metadata": {},
   "outputs": [],
   "source": [
    "4. Mostrar el orden de los libros de Mario Vargas Llosa:"
   ]
  },
  {
   "cell_type": "code",
   "execution_count": 31,
   "id": "4f0fea31-b262-4926-b7cf-7971cd8ee4fc",
   "metadata": {},
   "outputs": [
    {
     "name": "stdout",
     "output_type": "stream",
     "text": [
      "\n",
      "El primer libro de Mario Vargas Llosa es: La ciudad y los perros\n",
      "\n",
      "El segundo libro de Mario Vargas Llosa es: La casa verde\n",
      "\n",
      "El tercer libro de Mario Vargas Llosa es: Pantaleón y las visitadoras\n"
     ]
    }
   ],
   "source": [
    "# Lista de libros de Mario Vargas Llosa\n",
    "obras_mvll = [\"La ciudad y los perros\", \"La casa verde\", \"Pantaleón y las visitadoras\"]\n",
    "\n",
    "# Lista de orden\n",
    "orden = [\"primer\", \"segundo\", \"tercer\"]\n",
    "\n",
    "# Usamos `enumerate` para recorrer ambas listas\n",
    "for i, libro in enumerate(obras_mvll):\n",
    "    print(\"\\nEl \" + orden[i] + \" libro de Mario Vargas Llosa es: \" + libro)\n"
   ]
  },
  {
   "cell_type": "markdown",
   "id": "41e0f1a2-0e81-4740-b9c8-af4de120afa3",
   "metadata": {},
   "source": [
    "4. Programa de invitaciones"
   ]
  },
  {
   "cell_type": "code",
   "execution_count": 33,
   "id": "3722da8c-03f9-410b-b480-284f4a991d50",
   "metadata": {},
   "outputs": [
    {
     "name": "stdout",
     "output_type": "stream",
     "text": [
      "Hola Joel, ¡Por favor, ven a mi fiesta el sábado!\n",
      "Hola Nati, ¡Por favor, ven a mi fiesta el sábado!\n",
      "Hola Jehu, ¡Por favor, ven a mi fiesta el sábado!\n",
      "Hola Angeles, ¡Por favor, ven a mi fiesta el sábado!\n",
      "Hola Maryori, ¡Por favor, ven a mi fiesta el sábado!\n",
      "Hola Lucila, ¡Por favor, ven a mi fiesta el sábado!\n",
      "Hola Mirella, ¡Por favor, ven a mi fiesta el sábado!\n",
      "Hola Cesar, ¡Por favor, ven a mi fiesta el sábado!\n"
     ]
    }
   ],
   "source": [
    "for name in [\"Joel\", \"Nati\", \"Jehu\", \"Angeles\", \"Maryori\", \"Lucila\", \"Mirella\", \"Cesar\"]:\n",
    "    invitation = f\"Hola {name}, ¡Por favor, ven a mi fiesta el sábado!\"\n",
    "    print(invitation)\n"
   ]
  },
  {
   "cell_type": "markdown",
   "id": "ec4a175e-a07a-498b-bbf1-d35f0e7965ec",
   "metadata": {},
   "source": [
    "5. Programa que suma elementos de una lista sin sum()"
   ]
  },
  {
   "cell_type": "code",
   "execution_count": 35,
   "id": "f27695fd-8d22-42b5-b642-53797835b41f",
   "metadata": {},
   "outputs": [
    {
     "name": "stdout",
     "output_type": "stream",
     "text": [
      "10\n",
      "5.5\n",
      "2\n",
      "55\n",
      "0\n"
     ]
    }
   ],
   "source": [
    "def my_sum(xs):\n",
    "    \"\"\"Suma los números de una lista `xs`.\"\"\"\n",
    "    total = 0\n",
    "    for x in xs:\n",
    "        total += x\n",
    "    return total\n",
    "\n",
    "# Pruebas\n",
    "print(my_sum([1, 2, 3, 4]))  # 10\n",
    "print(my_sum([1.25, 2.5, 1.75]))  # 5.5\n",
    "print(my_sum([1, -2, 3]))  # 2\n",
    "print(my_sum(range(11)))  # 55\n",
    "print(my_sum([]))  # 0\n"
   ]
  },
  {
   "cell_type": "markdown",
   "id": "aec6cea5-ed5d-44aa-9795-d8f0345105a9",
   "metadata": {},
   "source": [
    "6. Programa que suma elementos con sum()"
   ]
  },
  {
   "cell_type": "code",
   "execution_count": 37,
   "id": "396e46da-aa7d-4569-b2a8-73a394d60b45",
   "metadata": {},
   "outputs": [
    {
     "name": "stdout",
     "output_type": "stream",
     "text": [
      "10\n"
     ]
    }
   ],
   "source": [
    "m = [1, 2, 3, 4]\n",
    "print(sum(m))  # Salida: 10\n"
   ]
  },
  {
   "cell_type": "markdown",
   "id": "31a1d2eb-9a5d-4bb5-96a4-19e6f05b36a4",
   "metadata": {},
   "source": [
    "7. Programa de múltiplos hasta 10"
   ]
  },
  {
   "cell_type": "code",
   "execution_count": 41,
   "id": "376864f0-42ba-4344-8972-cc3223cdadec",
   "metadata": {},
   "outputs": [
    {
     "name": "stdin",
     "output_type": "stream",
     "text": [
      "Ingrese un número:  2\n"
     ]
    },
    {
     "name": "stdout",
     "output_type": "stream",
     "text": [
      "\n",
      "Los múltiplos de 2 son:\n",
      "2 4 6 8 10 12 14 16 18 20 \n"
     ]
    }
   ],
   "source": [
    "# Función para mostrar los primeros 10 múltiplos de un número\n",
    "def multiplos(n):\n",
    "    for i in range(1, 11):\n",
    "        print(n * i, end=\" \")\n",
    "    print()  # Salto de línea al terminar\n",
    "\n",
    "# Solicitar número al usuario\n",
    "m = int(input(\"Ingrese un número: \"))\n",
    "print(f\"\\nLos múltiplos de {m} son:\")\n",
    "multiplos(m)\n"
   ]
  },
  {
   "cell_type": "markdown",
   "id": "7733c458-b763-4fcf-aba8-28992625a7cc",
   "metadata": {},
   "source": [
    "8. Ejemplo de for anidado (tablas)"
   ]
  },
  {
   "cell_type": "code",
   "execution_count": 43,
   "id": "9bbc4fdd-8eaa-44df-9f93-6ad8f8f6208d",
   "metadata": {},
   "outputs": [
    {
     "name": "stdout",
     "output_type": "stream",
     "text": [
      "0 0 0\n",
      "0 0 1\n",
      "0 1 0\n",
      "0 1 1\n",
      "0 2 0\n",
      "0 2 1\n",
      "0 3 0\n",
      "0 3 1\n",
      "1 0 0\n",
      "1 0 1\n",
      "1 1 0\n",
      "1 1 1\n",
      "1 2 0\n",
      "1 2 1\n",
      "1 3 0\n",
      "1 3 1\n",
      "2 0 0\n",
      "2 0 1\n",
      "2 1 0\n",
      "2 1 1\n",
      "2 2 0\n",
      "2 2 1\n",
      "2 3 0\n",
      "2 3 1\n",
      "3 0 0\n",
      "3 0 1\n",
      "3 1 0\n",
      "3 1 1\n",
      "3 2 0\n",
      "3 2 1\n",
      "3 3 0\n",
      "3 3 1\n"
     ]
    }
   ],
   "source": [
    "for i in range(4):\n",
    "    for j in range(4):\n",
    "        for k in range(2):\n",
    "            print(i, j, k)\n"
   ]
  },
  {
   "cell_type": "markdown",
   "id": "af77f27d-1c44-43ac-99b9-f5aa89dd6589",
   "metadata": {},
   "source": [
    "9. Programa para hallar raíces enésimas"
   ]
  },
  {
   "cell_type": "code",
   "execution_count": 45,
   "id": "c6831c98-d868-4df2-8db6-0f82acf04e82",
   "metadata": {},
   "outputs": [
    {
     "name": "stdin",
     "output_type": "stream",
     "text": [
      "Ingrese un número:  2\n"
     ]
    },
    {
     "name": "stdout",
     "output_type": "stream",
     "text": [
      "La raíz 2-ésima de 2.0 es 1.4142135623730951\n",
      "La raíz 3-ésima de 2.0 es 1.2599210498948732\n",
      "La raíz 4-ésima de 2.0 es 1.189207115002721\n",
      "La raíz 5-ésima de 2.0 es 1.148698354997035\n",
      "La raíz 6-ésima de 2.0 es 1.122462048309373\n",
      "La raíz 7-ésima de 2.0 es 1.1040895136738123\n",
      "La raíz 8-ésima de 2.0 es 1.0905077326652577\n",
      "La raíz 9-ésima de 2.0 es 1.080059738892306\n",
      "La raíz 10-ésima de 2.0 es 1.0717734625362931\n",
      "La raíz 11-ésima de 2.0 es 1.0650410894399627\n",
      "La raíz 12-ésima de 2.0 es 1.0594630943592953\n",
      "La raíz 13-ésima de 2.0 es 1.0547660764816467\n",
      "La raíz 14-ésima de 2.0 es 1.0507566386532194\n",
      "La raíz 15-ésima de 2.0 es 1.0472941228206267\n",
      "La raíz 16-ésima de 2.0 es 1.0442737824274138\n",
      "La raíz 17-ésima de 2.0 es 1.0416160106505838\n",
      "La raíz 18-ésima de 2.0 es 1.0392592260318434\n",
      "La raíz 19-ésima de 2.0 es 1.0371550444461919\n",
      "La raíz 20-ésima de 2.0 es 1.0352649238413776\n",
      "La raíz 21-ésima de 2.0 es 1.0335577830070277\n",
      "La raíz 22-ésima de 2.0 es 1.0320082797342096\n",
      "La raíz 23-ésima de 2.0 es 1.0305955447520094\n",
      "La raíz 24-ésima de 2.0 es 1.029302236643492\n",
      "La raíz 25-ésima de 2.0 es 1.0281138266560665\n",
      "La raíz 26-ésima de 2.0 es 1.0270180507087725\n",
      "La raíz 27-ésima de 2.0 es 1.0260044847070386\n",
      "La raíz 28-ésima de 2.0 es 1.0250642119658746\n",
      "La raíz 29-ésima de 2.0 es 1.0241895602489972\n",
      "La raíz 30-ésima de 2.0 es 1.023373891996775\n",
      "La raíz 31-ésima de 2.0 es 1.0226114356012683\n",
      "La raíz 32-ésima de 2.0 es 1.0218971486541166\n",
      "La raíz 33-ésima de 2.0 es 1.021226606315364\n",
      "La raíz 34-ésima de 2.0 es 1.0205959095795867\n",
      "La raíz 35-ésima de 2.0 es 1.020001609421199\n",
      "La raíz 36-ésima de 2.0 es 1.0194406437021448\n",
      "La raíz 37-ésima de 2.0 es 1.0189102844052507\n",
      "La raíz 38-ésima de 2.0 es 1.018408093274102\n",
      "La raíz 39-ésima de 2.0 es 1.0179318843373906\n",
      "La raíz 40-ésima de 2.0 es 1.0174796921026863\n",
      "La raíz 41-ésima de 2.0 es 1.0170497444436268\n",
      "La raíz 42-ésima de 2.0 es 1.0166404393919355\n",
      "La raíz 43-ésima de 2.0 es 1.016250325193552\n",
      "La raíz 44-ésima de 2.0 es 1.0158780831055514\n",
      "La raíz 45-ésima de 2.0 es 1.015522512504275\n",
      "La raíz 46-ésima de 2.0 es 1.0151825179503484\n",
      "La raíz 47-ésima de 2.0 es 1.0148570979170202\n",
      "La raíz 48-ésima de 2.0 es 1.0145453349375237\n",
      "La raíz 49-ésima de 2.0 es 1.0142463869673273\n",
      "La raíz 50-ésima de 2.0 es 1.013959479790029\n",
      "La raíz 51-ésima de 2.0 es 1.0136839003226856\n",
      "La raíz 52-ésima de 2.0 es 1.0134189906987003\n",
      "La raíz 53-ésima de 2.0 es 1.0131641430249148\n",
      "La raíz 54-ésima de 2.0 es 1.0129187947249467\n",
      "La raíz 55-ésima de 2.0 es 1.0126824243937012\n",
      "La raíz 56-ésima de 2.0 es 1.012454548098765\n",
      "La raíz 57-ésima de 2.0 es 1.0122347160734744\n",
      "La raíz 58-ésima de 2.0 es 1.012022509754105\n",
      "La raíz 59-ésima de 2.0 es 1.0118175391201212\n",
      "La raíz 60-ésima de 2.0 es 1.0116194403019225\n",
      "La raíz 61-ésima de 2.0 es 1.0114278734252204\n",
      "La raíz 62-ésima de 2.0 es 1.0112425206651807\n",
      "La raíz 63-ésima de 2.0 es 1.0110630844868955\n",
      "La raíz 64-ésima de 2.0 es 1.0108892860517005\n",
      "La raíz 65-ésima de 2.0 es 1.010720863771376\n",
      "La raíz 66-ésima de 2.0 es 1.0105575719944728\n",
      "La raíz 67-ésima de 2.0 es 1.0103991798108818\n",
      "La raíz 68-ésima de 2.0 es 1.010245469962418\n",
      "La raíz 69-ésima de 2.0 es 1.0100962378486082\n",
      "La raíz 70-ésima de 2.0 es 1.0099512906181165\n",
      "La raíz 71-ésima de 2.0 es 1.0098104463373212\n",
      "La raíz 72-ésima de 2.0 es 1.009673533228511\n",
      "La raíz 73-ésima de 2.0 es 1.0095403889709869\n",
      "La raíz 74-ésima de 2.0 es 1.0094108600590994\n",
      "La raíz 75-ésima de 2.0 es 1.0092848012118742\n",
      "La raíz 76-ésima de 2.0 es 1.0091620748294607\n",
      "La raíz 77-ésima de 2.0 es 1.009042550492123\n",
      "La raíz 78-ésima de 2.0 es 1.0089261044979412\n",
      "La raíz 79-ésima de 2.0 es 1.0088126194357758\n",
      "La raíz 80-ésima de 2.0 es 1.008701983790399\n",
      "La raíz 81-ésima de 2.0 es 1.008594091576999\n",
      "La raíz 82-ésima de 2.0 es 1.0084888420025413\n",
      "La raíz 83-ésima de 2.0 es 1.0083861391517097\n",
      "La raíz 84-ésima de 2.0 es 1.008285891695374\n",
      "La raíz 85-ésima de 2.0 es 1.0081880126197191\n",
      "La raíz 86-ésima de 2.0 es 1.0080924189743476\n",
      "La raíz 87-ésima de 2.0 es 1.0079990316378238\n",
      "La raíz 88-ésima de 2.0 es 1.0079077750992653\n",
      "La raíz 89-ésima de 2.0 es 1.0078185772547172\n",
      "La raíz 90-ésima de 2.0 es 1.0077313692171515\n",
      "La raíz 91-ésima de 2.0 es 1.007646085139043\n",
      "La raíz 92-ésima de 2.0 es 1.007562662046559\n",
      "La raíz 93-ésima de 2.0 es 1.0074810396844858\n",
      "La raíz 94-ésima de 2.0 es 1.0074011603710908\n",
      "La raíz 95-ésima de 2.0 es 1.0073229688621836\n",
      "La raíz 96-ésima de 2.0 es 1.007246412223704\n",
      "La raíz 97-ésima de 2.0 es 1.0071714397122191\n",
      "La raíz 98-ésima de 2.0 es 1.0070980026627634\n",
      "La raíz 99-ésima de 2.0 es 1.007026054383499\n",
      "La raíz 100-ésima de 2.0 es 1.0069555500567189\n"
     ]
    }
   ],
   "source": [
    "# Solicitar número al usuario\n",
    "numero = float(input(\"Ingrese un número: \"))\n",
    "for n in range(2, 101):\n",
    "    raiz = numero ** (1 / n)\n",
    "    print(f\"La raíz {n}-ésima de {numero} es {raiz}\")\n"
   ]
  },
  {
   "cell_type": "code",
   "execution_count": null,
   "id": "47e0d32d-7b38-4c76-9c26-c15690128fc6",
   "metadata": {},
   "outputs": [],
   "source": []
  }
 ],
 "metadata": {
  "kernelspec": {
   "display_name": "Python 3 (ipykernel)",
   "language": "python",
   "name": "python3"
  },
  "language_info": {
   "codemirror_mode": {
    "name": "ipython",
    "version": 3
   },
   "file_extension": ".py",
   "mimetype": "text/x-python",
   "name": "python",
   "nbconvert_exporter": "python",
   "pygments_lexer": "ipython3",
   "version": "3.12.7"
  }
 },
 "nbformat": 4,
 "nbformat_minor": 5
}
