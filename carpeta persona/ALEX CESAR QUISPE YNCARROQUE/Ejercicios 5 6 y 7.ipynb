{
 "cells": [
  {
   "cell_type": "markdown",
   "id": "5083c9ca-bf99-4fbc-b6ac-5d0162ec17e3",
   "metadata": {},
   "source": [
    "## Programa 1: Generar una lista aleatoria y clasificar en sublistas\n"
   ]
  },
  {
   "cell_type": "markdown",
   "id": "25941060-d163-49ec-9b38-f6758e4720c3",
   "metadata": {},
   "source": [
    "### Descripción:\n",
    "Hacer un programa que genere una lista aleatoria de hasta 60 números.  \n",
    "Luego, subdividirla en las siguientes listas:  \n",
    "- Lista de múltiplos de 2.  \n",
    "- Lista de múltiplos de 3.  \n",
    "- Lista de múltiplos de 5.\n",
    "\n",
    "Utilizar un bucle `for` para recorrer la lista y funciones para realizar las verificaciones.\n"
   ]
  },
  {
   "cell_type": "code",
   "execution_count": 1,
   "id": "2d821634-1f3a-42e8-b786-2a865e8914ea",
   "metadata": {},
   "outputs": [
    {
     "name": "stdout",
     "output_type": "stream",
     "text": [
      "Lista completa: [7, 72, 2, 96, 54, 70, 61, 7, 85, 57, 7, 45, 23, 46, 50, 34, 59, 65, 79, 68, 2, 12, 15, 7, 25, 78, 71, 86, 85, 4, 33, 74, 40, 79, 9, 8, 14, 52, 55, 98, 41, 92, 16, 24, 3, 54, 48, 82, 88, 30, 23, 38, 15, 89, 34, 47, 94, 73, 93, 36]\n",
      "Múltiplos de 2: [72, 2, 96, 54, 70, 46, 50, 34, 68, 2, 12, 78, 86, 4, 74, 40, 8, 14, 52, 98, 92, 16, 24, 54, 48, 82, 88, 30, 38, 34, 94, 36]\n",
      "Múltiplos de 3: [72, 96, 54, 57, 45, 12, 15, 78, 33, 9, 24, 3, 54, 48, 30, 15, 93, 36]\n",
      "Múltiplos de 5: [70, 85, 45, 50, 65, 15, 25, 85, 40, 55, 30, 15]\n"
     ]
    }
   ],
   "source": [
    "import random\n",
    "\n",
    "# Función para generar una lista aleatoria de hasta 60 números\n",
    "def generar_lista_aleatoria():\n",
    "    return [random.randint(1, 100) for _ in range(60)]\n",
    "\n",
    "# Función para clasificar números en múltiples listas\n",
    "def clasificar_multiplos(lista):\n",
    "    multiplos_2 = []\n",
    "    multiplos_3 = []\n",
    "    multiplos_5 = []\n",
    "    \n",
    "    for num in lista:\n",
    "        if num % 2 == 0:\n",
    "            multiplos_2.append(num)\n",
    "        if num % 3 == 0:\n",
    "            multiplos_3.append(num)\n",
    "        if num % 5 == 0:\n",
    "            multiplos_5.append(num)\n",
    "    \n",
    "    return multiplos_2, multiplos_3, multiplos_5\n",
    "\n",
    "# Generar y clasificar\n",
    "lista = generar_lista_aleatoria()\n",
    "multiplos_2, multiplos_3, multiplos_5 = clasificar_multiplos(lista)\n",
    "\n",
    "print(f\"Lista completa: {lista}\")\n",
    "print(f\"Múltiplos de 2: {multiplos_2}\")\n",
    "print(f\"Múltiplos de 3: {multiplos_3}\")\n",
    "print(f\"Múltiplos de 5: {multiplos_5}\")\n"
   ]
  },
  {
   "cell_type": "markdown",
   "id": "16cd5b20-f08d-44e7-9672-6ddb75d55640",
   "metadata": {},
   "source": [
    "## Programa 2: Verificar números capicúa en un rango\n"
   ]
  },
  {
   "cell_type": "markdown",
   "id": "e2dafb78-ec4d-45de-b77d-d70c000ea77e",
   "metadata": {},
   "source": [
    "### Descripción:\n",
    "Hacer un programa que solicite un número inicial de 3 cifras y un número final de 4 cifras para generar un rango.  \n",
    "Luego, recorrer la lista generada e imprimir cuáles números son capicúa.  \n",
    "\n",
    "Utilizar bucles `for` y funciones para realizar las verificaciones.\n"
   ]
  },
  {
   "cell_type": "code",
   "execution_count": 3,
   "id": "21817eea-40eb-4b60-af55-4925632cce9e",
   "metadata": {},
   "outputs": [
    {
     "name": "stdin",
     "output_type": "stream",
     "text": [
      "Ingrese un número inicial de 3 cifras:  100\n",
      "Ingrese un número final de 4 cifras:  1000\n"
     ]
    },
    {
     "name": "stdout",
     "output_type": "stream",
     "text": [
      "Números capicúa en el rango:\n",
      "101\n",
      "111\n",
      "121\n",
      "131\n",
      "141\n",
      "151\n",
      "161\n",
      "171\n",
      "181\n",
      "191\n",
      "202\n",
      "212\n",
      "222\n",
      "232\n",
      "242\n",
      "252\n",
      "262\n",
      "272\n",
      "282\n",
      "292\n",
      "303\n",
      "313\n",
      "323\n",
      "333\n",
      "343\n",
      "353\n",
      "363\n",
      "373\n",
      "383\n",
      "393\n",
      "404\n",
      "414\n",
      "424\n",
      "434\n",
      "444\n",
      "454\n",
      "464\n",
      "474\n",
      "484\n",
      "494\n",
      "505\n",
      "515\n",
      "525\n",
      "535\n",
      "545\n",
      "555\n",
      "565\n",
      "575\n",
      "585\n",
      "595\n",
      "606\n",
      "616\n",
      "626\n",
      "636\n",
      "646\n",
      "656\n",
      "666\n",
      "676\n",
      "686\n",
      "696\n",
      "707\n",
      "717\n",
      "727\n",
      "737\n",
      "747\n",
      "757\n",
      "767\n",
      "777\n",
      "787\n",
      "797\n",
      "808\n",
      "818\n",
      "828\n",
      "838\n",
      "848\n",
      "858\n",
      "868\n",
      "878\n",
      "888\n",
      "898\n",
      "909\n",
      "919\n",
      "929\n",
      "939\n",
      "949\n",
      "959\n",
      "969\n",
      "979\n",
      "989\n",
      "999\n"
     ]
    }
   ],
   "source": [
    "# Función para verificar si un número es capicúa\n",
    "def es_capicua(numero):\n",
    "    str_num = str(numero)\n",
    "    return str_num == str_num[::-1]\n",
    "\n",
    "# Solicitar los valores inicial y final\n",
    "inicio = int(input(\"Ingrese un número inicial de 3 cifras: \"))\n",
    "final = int(input(\"Ingrese un número final de 4 cifras: \"))\n",
    "\n",
    "# Generar el rango de números\n",
    "rango = list(range(inicio, final + 1))\n",
    "\n",
    "# Verificar cuáles son capicúa\n",
    "print(\"Números capicúa en el rango:\")\n",
    "for num in rango:\n",
    "    if es_capicua(num):\n",
    "        print(num)\n"
   ]
  },
  {
   "cell_type": "markdown",
   "id": "7864a4ab-2bd1-4713-ab64-e4a07c21069b",
   "metadata": {},
   "source": [
    "## Programa 3: Verificar un DNI válido\n"
   ]
  },
  {
   "cell_type": "markdown",
   "id": "0d921ca7-67b4-46ff-9b37-db581d744be2",
   "metadata": {},
   "source": [
    "### Descripción:\n",
    "Hacer un programa que solicite el ingreso del DNI de un ciudadano y verifique lo siguiente:\n",
    "- Que no contenga letras del abecedario.\n",
    "- Que no contenga símbolos extraños.\n",
    "- Que tenga exactamente 8 números.\n",
    "\n",
    "Si el DNI no es válido, solicitar al usuario que lo vuelva a ingresar.  \n",
    "Utilizar bucles `for` y funciones para realizar las verificaciones.\n"
   ]
  },
  {
   "cell_type": "code",
   "execution_count": 5,
   "id": "145576d3-2130-477c-ba37-1ef658e86b93",
   "metadata": {},
   "outputs": [
    {
     "name": "stdin",
     "output_type": "stream",
     "text": [
      "Ingrese su DNI (8 dígitos):  74578098\n"
     ]
    },
    {
     "name": "stdout",
     "output_type": "stream",
     "text": [
      "DNI válido.\n"
     ]
    }
   ],
   "source": [
    "# Función para verificar si un DNI es válido\n",
    "def verificar_dni(dni):\n",
    "    if len(dni) != 8:\n",
    "        return False\n",
    "    if not dni.isdigit():\n",
    "        return False\n",
    "    return True\n",
    "\n",
    "# Solicitar el DNI al usuario\n",
    "while True:\n",
    "    dni = input(\"Ingrese su DNI (8 dígitos): \")\n",
    "    if verificar_dni(dni):\n",
    "        print(\"DNI válido.\")\n",
    "        break\n",
    "    else:\n",
    "        print(\"DNI inválido. Por favor, intente de nuevo.\")\n"
   ]
  },
  {
   "cell_type": "code",
   "execution_count": null,
   "id": "13ddb4ab-591a-4e2f-872d-98a58cbf4fa2",
   "metadata": {},
   "outputs": [],
   "source": []
  }
 ],
 "metadata": {
  "kernelspec": {
   "display_name": "Python 3 (ipykernel)",
   "language": "python",
   "name": "python3"
  },
  "language_info": {
   "codemirror_mode": {
    "name": "ipython",
    "version": 3
   },
   "file_extension": ".py",
   "mimetype": "text/x-python",
   "name": "python",
   "nbconvert_exporter": "python",
   "pygments_lexer": "ipython3",
   "version": "3.12.7"
  }
 },
 "nbformat": 4,
 "nbformat_minor": 5
}
